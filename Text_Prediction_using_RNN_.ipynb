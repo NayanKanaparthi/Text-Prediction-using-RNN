{
  "nbformat": 4,
  "nbformat_minor": 0,
  "metadata": {
    "colab": {
      "provenance": [],
      "gpuType": "T4",
      "authorship_tag": "ABX9TyNkkbjUXWqomHNWmhtx0NwQ",
      "include_colab_link": true
    },
    "kernelspec": {
      "name": "python3",
      "display_name": "Python 3"
    },
    "language_info": {
      "name": "python"
    },
    "accelerator": "GPU"
  },
  "cells": [
    {
      "cell_type": "markdown",
      "metadata": {
        "id": "view-in-github",
        "colab_type": "text"
      },
      "source": [
        "<a href=\"https://colab.research.google.com/github/NayanKanaparthi/Text-Prediction-using-RNN/blob/main/Text_Prediction_using_RNN_.ipynb\" target=\"_parent\"><img src=\"https://colab.research.google.com/assets/colab-badge.svg\" alt=\"Open In Colab\"/></a>"
      ]
    },
    {
      "cell_type": "code",
      "execution_count": 15,
      "metadata": {
        "id": "qzw_VfO-_ByT"
      },
      "outputs": [],
      "source": [
        "#we will train the model on few irish songs and see if it can learn and generate poetry\n"
      ]
    },
    {
      "cell_type": "code",
      "source": [
        "import tensorflow as tf\n",
        "\n",
        "from tensorflow.keras.preprocessing.sequence import pad_sequences\n",
        "from tensorflow.keras.layers import Embedding, LSTM, Dense, Bidirectional\n",
        "from tensorflow.keras.preprocessing.text import Tokenizer\n",
        "from tensorflow.keras.models import Sequential\n",
        "from tensorflow.keras.optimizers import Adam\n",
        "import numpy as np"
      ],
      "metadata": {
        "id": "34UhcJFp_soD"
      },
      "execution_count": 16,
      "outputs": []
    },
    {
      "cell_type": "code",
      "metadata": {
        "id": "pylt5qZYsWPh",
        "colab": {
          "base_uri": "https://localhost:8080/"
        },
        "outputId": "f1173b31-1636-423d-f84b-5571316d78f5"
      },
      "source": [
        "!wget --no-check-certificate \\\n",
        "    https://storage.googleapis.com/learning-datasets/irish-lyrics-eof.txt \\\n",
        "    -O /tmp/irish-lyrics-eof.txt"
      ],
      "execution_count": 17,
      "outputs": [
        {
          "output_type": "stream",
          "name": "stdout",
          "text": [
            "--2023-06-21 17:53:57--  https://storage.googleapis.com/learning-datasets/irish-lyrics-eof.txt\n",
            "Resolving storage.googleapis.com (storage.googleapis.com)... 173.194.193.128, 173.194.194.128, 173.194.195.128, ...\n",
            "Connecting to storage.googleapis.com (storage.googleapis.com)|173.194.193.128|:443... connected.\n",
            "HTTP request sent, awaiting response... 200 OK\n",
            "Length: 68970 (67K) [text/plain]\n",
            "Saving to: ‘/tmp/irish-lyrics-eof.txt’\n",
            "\n",
            "\r          /tmp/iris   0%[                    ]       0  --.-KB/s               \r/tmp/irish-lyrics-e 100%[===================>]  67.35K  --.-KB/s    in 0.001s  \n",
            "\n",
            "2023-06-21 17:53:57 (50.4 MB/s) - ‘/tmp/irish-lyrics-eof.txt’ saved [68970/68970]\n",
            "\n"
          ]
        }
      ]
    },
    {
      "cell_type": "code",
      "source": [
        "from os import read\n",
        "tokenizer = Tokenizer()\n",
        "data = open('/tmp/irish-lyrics-eof.txt').read()\n",
        "corpus = data.lower().split(\"\\n\")\n",
        "tokenizer.fit_on_texts(corpus)\n",
        "Windex=tokenizer.word_index\n",
        "\n",
        "total_words=len(Windex)+1\n",
        "print(total_words)"
      ],
      "metadata": {
        "colab": {
          "base_uri": "https://localhost:8080/"
        },
        "id": "0X2aBh1Z_yak",
        "outputId": "60a10f3b-875e-4531-8696-48f02fd81f9e"
      },
      "execution_count": 18,
      "outputs": [
        {
          "output_type": "stream",
          "name": "stdout",
          "text": [
            "2690\n"
          ]
        }
      ]
    },
    {
      "cell_type": "code",
      "source": [
        "input_sequences=[]\n",
        "for line in corpus:\n",
        "  token_list=tokenizer.texts_to_sequences([line])[0]\n",
        "  for i in range(1,len(token_list)):\n",
        "    n_gram_sequence = token_list[:i+1]\n",
        "    input_sequences.append(n_gram_sequence)\n",
        "\n",
        "#padding sequences\n",
        "max_sequence_len= max([len(x) for x in input_sequences])\n",
        "input_sequences = np.array(pad_sequences(input_sequences,maxlen=max_sequence_len,padding='pre'))\n",
        "\n",
        "#creating labels\n",
        "\n",
        "xs,labels= input_sequences[:,:-1],input_sequences[:,-1]\n",
        "#should make the y labels as one hot encoded by using categorical\n",
        "ys= tf.keras.utils.to_categorical(labels,num_classes=total_words)\n"
      ],
      "metadata": {
        "id": "wZZk9Ug9i29T"
      },
      "execution_count": 19,
      "outputs": []
    },
    {
      "cell_type": "code",
      "source": [
        "print(xs[6])\n",
        "print(ys[6])"
      ],
      "metadata": {
        "colab": {
          "base_uri": "https://localhost:8080/"
        },
        "id": "dcFS0nmMnjJT",
        "outputId": "798d4996-efce-4884-d0b0-a943af094144"
      },
      "execution_count": 20,
      "outputs": [
        {
          "output_type": "stream",
          "name": "stdout",
          "text": [
            "[0 0 0 0 0 0 0 0 0 0 0 0 0 0 2]\n",
            "[0. 0. 0. ... 0. 0. 0.]\n"
          ]
        }
      ]
    },
    {
      "cell_type": "code",
      "source": [
        "model= Sequential()\n",
        "model.add(Embedding(total_words,100,input_length=max_sequence_len-1))\n",
        "model.add(Bidirectional(LSTM(150)))\n",
        "model.add(Dense(total_words,activation='softmax'))\n",
        "adam = Adam(lr=0.01)\n",
        "model.compile(loss='categorical_crossentropy',optimizer=adam,metrics=['accuracy'])\n",
        "history=model.fit(xs,ys,epochs=100,verbose=1)\n",
        "print(model.summary)"
      ],
      "metadata": {
        "colab": {
          "base_uri": "https://localhost:8080/"
        },
        "id": "m2qVE9aFoo8a",
        "outputId": "4beda7f8-1d02-4fc6-cfad-c1e7a996cdd1"
      },
      "execution_count": 21,
      "outputs": [
        {
          "output_type": "stream",
          "name": "stderr",
          "text": [
            "WARNING:absl:`lr` is deprecated in Keras optimizer, please use `learning_rate` or use the legacy optimizer, e.g.,tf.keras.optimizers.legacy.Adam.\n"
          ]
        },
        {
          "output_type": "stream",
          "name": "stdout",
          "text": [
            "Epoch 1/100\n",
            "377/377 [==============================] - 62s 25ms/step - loss: 6.7629 - accuracy: 0.0650\n",
            "Epoch 2/100\n",
            "377/377 [==============================] - 5s 13ms/step - loss: 6.2490 - accuracy: 0.0756\n",
            "Epoch 3/100\n",
            "377/377 [==============================] - 3s 9ms/step - loss: 5.9862 - accuracy: 0.0838\n",
            "Epoch 4/100\n",
            "377/377 [==============================] - 3s 7ms/step - loss: 5.6694 - accuracy: 0.1034\n",
            "Epoch 5/100\n",
            "377/377 [==============================] - 3s 9ms/step - loss: 5.3158 - accuracy: 0.1200\n",
            "Epoch 6/100\n",
            "377/377 [==============================] - 3s 9ms/step - loss: 4.9547 - accuracy: 0.1364\n",
            "Epoch 7/100\n",
            "377/377 [==============================] - 3s 8ms/step - loss: 4.6063 - accuracy: 0.1557\n",
            "Epoch 8/100\n",
            "377/377 [==============================] - 3s 7ms/step - loss: 4.2650 - accuracy: 0.1810\n",
            "Epoch 9/100\n",
            "377/377 [==============================] - 3s 7ms/step - loss: 3.9414 - accuracy: 0.2187\n",
            "Epoch 10/100\n",
            "377/377 [==============================] - 3s 9ms/step - loss: 3.6262 - accuracy: 0.2641\n",
            "Epoch 11/100\n",
            "377/377 [==============================] - 3s 7ms/step - loss: 3.3194 - accuracy: 0.3138\n",
            "Epoch 12/100\n",
            "377/377 [==============================] - 3s 8ms/step - loss: 3.0381 - accuracy: 0.3674\n",
            "Epoch 13/100\n",
            "377/377 [==============================] - 3s 7ms/step - loss: 2.7620 - accuracy: 0.4237\n",
            "Epoch 14/100\n",
            "377/377 [==============================] - 3s 9ms/step - loss: 2.5126 - accuracy: 0.4718\n",
            "Epoch 15/100\n",
            "377/377 [==============================] - 3s 7ms/step - loss: 2.2860 - accuracy: 0.5154\n",
            "Epoch 16/100\n",
            "377/377 [==============================] - 3s 7ms/step - loss: 2.0764 - accuracy: 0.5630\n",
            "Epoch 17/100\n",
            "377/377 [==============================] - 3s 7ms/step - loss: 1.8902 - accuracy: 0.6018\n",
            "Epoch 18/100\n",
            "377/377 [==============================] - 3s 9ms/step - loss: 1.7316 - accuracy: 0.6331\n",
            "Epoch 19/100\n",
            "377/377 [==============================] - 3s 8ms/step - loss: 1.5872 - accuracy: 0.6653\n",
            "Epoch 20/100\n",
            "377/377 [==============================] - 3s 8ms/step - loss: 1.4482 - accuracy: 0.6967\n",
            "Epoch 21/100\n",
            "377/377 [==============================] - 3s 8ms/step - loss: 1.3300 - accuracy: 0.7218\n",
            "Epoch 22/100\n",
            "377/377 [==============================] - 4s 9ms/step - loss: 1.2324 - accuracy: 0.7438\n",
            "Epoch 23/100\n",
            "377/377 [==============================] - 3s 7ms/step - loss: 1.1423 - accuracy: 0.7611\n",
            "Epoch 24/100\n",
            "377/377 [==============================] - 3s 7ms/step - loss: 1.0602 - accuracy: 0.7773\n",
            "Epoch 25/100\n",
            "377/377 [==============================] - 3s 7ms/step - loss: 0.9828 - accuracy: 0.7961\n",
            "Epoch 26/100\n",
            "377/377 [==============================] - 3s 9ms/step - loss: 0.9279 - accuracy: 0.8040\n",
            "Epoch 27/100\n",
            "377/377 [==============================] - 3s 7ms/step - loss: 0.8713 - accuracy: 0.8146\n",
            "Epoch 28/100\n",
            "377/377 [==============================] - 3s 8ms/step - loss: 0.8249 - accuracy: 0.8209\n",
            "Epoch 29/100\n",
            "377/377 [==============================] - 3s 8ms/step - loss: 0.7851 - accuracy: 0.8281\n",
            "Epoch 30/100\n",
            "377/377 [==============================] - 3s 9ms/step - loss: 0.7496 - accuracy: 0.8333\n",
            "Epoch 31/100\n",
            "377/377 [==============================] - 3s 8ms/step - loss: 0.7215 - accuracy: 0.8360\n",
            "Epoch 32/100\n",
            "377/377 [==============================] - 3s 8ms/step - loss: 0.6953 - accuracy: 0.8402\n",
            "Epoch 33/100\n",
            "377/377 [==============================] - 3s 7ms/step - loss: 0.6735 - accuracy: 0.8437\n",
            "Epoch 34/100\n",
            "377/377 [==============================] - 3s 8ms/step - loss: 0.6565 - accuracy: 0.8439\n",
            "Epoch 35/100\n",
            "377/377 [==============================] - 3s 9ms/step - loss: 0.6357 - accuracy: 0.8472\n",
            "Epoch 36/100\n",
            "377/377 [==============================] - 3s 7ms/step - loss: 0.6231 - accuracy: 0.8481\n",
            "Epoch 37/100\n",
            "377/377 [==============================] - 3s 7ms/step - loss: 0.6146 - accuracy: 0.8484\n",
            "Epoch 38/100\n",
            "377/377 [==============================] - 3s 8ms/step - loss: 0.6069 - accuracy: 0.8481\n",
            "Epoch 39/100\n",
            "377/377 [==============================] - 3s 9ms/step - loss: 0.5900 - accuracy: 0.8491\n",
            "Epoch 40/100\n",
            "377/377 [==============================] - 3s 7ms/step - loss: 0.5805 - accuracy: 0.8516\n",
            "Epoch 41/100\n",
            "377/377 [==============================] - 3s 7ms/step - loss: 0.5759 - accuracy: 0.8503\n",
            "Epoch 42/100\n",
            "377/377 [==============================] - 3s 7ms/step - loss: 0.5694 - accuracy: 0.8507\n",
            "Epoch 43/100\n",
            "377/377 [==============================] - 3s 9ms/step - loss: 0.5599 - accuracy: 0.8500\n",
            "Epoch 44/100\n",
            "377/377 [==============================] - 3s 8ms/step - loss: 0.5539 - accuracy: 0.8530\n",
            "Epoch 45/100\n",
            "377/377 [==============================] - 3s 8ms/step - loss: 0.5468 - accuracy: 0.8538\n",
            "Epoch 46/100\n",
            "377/377 [==============================] - 3s 8ms/step - loss: 0.5444 - accuracy: 0.8541\n",
            "Epoch 47/100\n",
            "377/377 [==============================] - 3s 8ms/step - loss: 0.5462 - accuracy: 0.8501\n",
            "Epoch 48/100\n",
            "377/377 [==============================] - 3s 8ms/step - loss: 0.5415 - accuracy: 0.8509\n",
            "Epoch 49/100\n",
            "377/377 [==============================] - 3s 7ms/step - loss: 0.5354 - accuracy: 0.8514\n",
            "Epoch 50/100\n",
            "377/377 [==============================] - 3s 7ms/step - loss: 0.5444 - accuracy: 0.8506\n",
            "Epoch 51/100\n",
            "377/377 [==============================] - 3s 8ms/step - loss: 0.5337 - accuracy: 0.8521\n",
            "Epoch 52/100\n",
            "377/377 [==============================] - 3s 8ms/step - loss: 0.5256 - accuracy: 0.8521\n",
            "Epoch 53/100\n",
            "377/377 [==============================] - 3s 7ms/step - loss: 0.5208 - accuracy: 0.8529\n",
            "Epoch 54/100\n",
            "377/377 [==============================] - 3s 7ms/step - loss: 0.5218 - accuracy: 0.8517\n",
            "Epoch 55/100\n",
            "377/377 [==============================] - 3s 7ms/step - loss: 0.5162 - accuracy: 0.8530\n",
            "Epoch 56/100\n",
            "377/377 [==============================] - 3s 9ms/step - loss: 0.5172 - accuracy: 0.8527\n",
            "Epoch 57/100\n",
            "377/377 [==============================] - 3s 7ms/step - loss: 0.5149 - accuracy: 0.8516\n",
            "Epoch 58/100\n",
            "377/377 [==============================] - 3s 7ms/step - loss: 0.5148 - accuracy: 0.8514\n",
            "Epoch 59/100\n",
            "377/377 [==============================] - 3s 7ms/step - loss: 0.5114 - accuracy: 0.8530\n",
            "Epoch 60/100\n",
            "377/377 [==============================] - 3s 8ms/step - loss: 0.5083 - accuracy: 0.8534\n",
            "Epoch 61/100\n",
            "377/377 [==============================] - 3s 8ms/step - loss: 0.5063 - accuracy: 0.8511\n",
            "Epoch 62/100\n",
            "377/377 [==============================] - 3s 7ms/step - loss: 0.5059 - accuracy: 0.8552\n",
            "Epoch 63/100\n",
            "377/377 [==============================] - 3s 7ms/step - loss: 0.5167 - accuracy: 0.8512\n",
            "Epoch 64/100\n",
            "377/377 [==============================] - 3s 8ms/step - loss: 0.5101 - accuracy: 0.8511\n",
            "Epoch 65/100\n",
            "377/377 [==============================] - 3s 8ms/step - loss: 0.5008 - accuracy: 0.8535\n",
            "Epoch 66/100\n",
            "377/377 [==============================] - 3s 7ms/step - loss: 0.4955 - accuracy: 0.8529\n",
            "Epoch 67/100\n",
            "377/377 [==============================] - 3s 7ms/step - loss: 0.4961 - accuracy: 0.8525\n",
            "Epoch 68/100\n",
            "377/377 [==============================] - 3s 7ms/step - loss: 0.4960 - accuracy: 0.8545\n",
            "Epoch 69/100\n",
            "377/377 [==============================] - 3s 9ms/step - loss: 0.4957 - accuracy: 0.8536\n",
            "Epoch 70/100\n",
            "377/377 [==============================] - 3s 7ms/step - loss: 0.4941 - accuracy: 0.8520\n",
            "Epoch 71/100\n",
            "377/377 [==============================] - 3s 7ms/step - loss: 0.4940 - accuracy: 0.8520\n",
            "Epoch 72/100\n",
            "377/377 [==============================] - 3s 7ms/step - loss: 0.4930 - accuracy: 0.8540\n",
            "Epoch 73/100\n",
            "377/377 [==============================] - 3s 8ms/step - loss: 0.4910 - accuracy: 0.8530\n",
            "Epoch 74/100\n",
            "377/377 [==============================] - 3s 8ms/step - loss: 0.4949 - accuracy: 0.8527\n",
            "Epoch 75/100\n",
            "377/377 [==============================] - 3s 8ms/step - loss: 0.4927 - accuracy: 0.8511\n",
            "Epoch 76/100\n",
            "377/377 [==============================] - 3s 7ms/step - loss: 0.4898 - accuracy: 0.8521\n",
            "Epoch 77/100\n",
            "377/377 [==============================] - 3s 8ms/step - loss: 0.4853 - accuracy: 0.8535\n",
            "Epoch 78/100\n",
            "377/377 [==============================] - 3s 9ms/step - loss: 0.4839 - accuracy: 0.8546\n",
            "Epoch 79/100\n",
            "377/377 [==============================] - 3s 7ms/step - loss: 0.4821 - accuracy: 0.8541\n",
            "Epoch 80/100\n",
            "377/377 [==============================] - 3s 7ms/step - loss: 0.4833 - accuracy: 0.8543\n",
            "Epoch 81/100\n",
            "377/377 [==============================] - 3s 7ms/step - loss: 0.4827 - accuracy: 0.8524\n",
            "Epoch 82/100\n",
            "377/377 [==============================] - 3s 9ms/step - loss: 0.4826 - accuracy: 0.8535\n",
            "Epoch 83/100\n",
            "377/377 [==============================] - 3s 7ms/step - loss: 0.4810 - accuracy: 0.8521\n",
            "Epoch 84/100\n",
            "377/377 [==============================] - 3s 7ms/step - loss: 0.4828 - accuracy: 0.8526\n",
            "Epoch 85/100\n",
            "377/377 [==============================] - 3s 7ms/step - loss: 0.4902 - accuracy: 0.8518\n",
            "Epoch 86/100\n",
            "377/377 [==============================] - 3s 9ms/step - loss: 0.4921 - accuracy: 0.8516\n",
            "Epoch 87/100\n",
            "377/377 [==============================] - 3s 7ms/step - loss: 0.4814 - accuracy: 0.8535\n",
            "Epoch 88/100\n",
            "377/377 [==============================] - 3s 7ms/step - loss: 0.4753 - accuracy: 0.8536\n",
            "Epoch 89/100\n",
            "377/377 [==============================] - 3s 7ms/step - loss: 0.4739 - accuracy: 0.8545\n",
            "Epoch 90/100\n",
            "377/377 [==============================] - 3s 8ms/step - loss: 0.4738 - accuracy: 0.8546\n",
            "Epoch 91/100\n",
            "377/377 [==============================] - 3s 8ms/step - loss: 0.4738 - accuracy: 0.8526\n",
            "Epoch 92/100\n",
            "377/377 [==============================] - 3s 7ms/step - loss: 0.4733 - accuracy: 0.8528\n",
            "Epoch 93/100\n",
            "377/377 [==============================] - 3s 7ms/step - loss: 0.4739 - accuracy: 0.8535\n",
            "Epoch 94/100\n",
            "377/377 [==============================] - 3s 7ms/step - loss: 0.4723 - accuracy: 0.8540\n",
            "Epoch 95/100\n",
            "377/377 [==============================] - 3s 9ms/step - loss: 0.4727 - accuracy: 0.8527\n",
            "Epoch 96/100\n",
            "377/377 [==============================] - 3s 7ms/step - loss: 0.4720 - accuracy: 0.8544\n",
            "Epoch 97/100\n",
            "377/377 [==============================] - 3s 7ms/step - loss: 0.4784 - accuracy: 0.8523\n",
            "Epoch 98/100\n",
            "377/377 [==============================] - 3s 8ms/step - loss: 0.4791 - accuracy: 0.8538\n",
            "Epoch 99/100\n",
            "377/377 [==============================] - 3s 9ms/step - loss: 0.4743 - accuracy: 0.8521\n",
            "Epoch 100/100\n",
            "377/377 [==============================] - 3s 7ms/step - loss: 0.4687 - accuracy: 0.8553\n",
            "<bound method Model.summary of <keras.engine.sequential.Sequential object at 0x7f1028251e70>>\n"
          ]
        }
      ]
    },
    {
      "cell_type": "code",
      "source": [],
      "metadata": {
        "colab": {
          "base_uri": "https://localhost:8080/",
          "height": 449
        },
        "id": "ND_dDKU6qG20",
        "outputId": "069d23b0-973d-4282-c2b6-308d8d397d67"
      },
      "execution_count": 22,
      "outputs": [
        {
          "output_type": "display_data",
          "data": {
            "text/plain": [
              "<Figure size 640x480 with 1 Axes>"
            ],
            "image/png": "[encoded data removed]"
          },
          "metadata": {}
        }
      ]
    },
    {
      "cell_type": "code",
      "metadata": {
        "id": "6Vc6PHgxa6Hm",
        "colab": {
          "base_uri": "https://localhost:8080/"
        },
        "outputId": "94d523c5-e1f4-41a6-8faf-52a38c9e2ba6"
      },
      "source": [
        "seed_text = \"I've got a bad feeling about this\"\n",
        "next_words = 100\n",
        "\n",
        "for _ in range(next_words):\n",
        "\ttoken_list = tokenizer.texts_to_sequences([seed_text])[0]\n",
        "\ttoken_list = pad_sequences([token_list], maxlen=max_sequence_len-1, padding='pre')\n",
        "\tpredicted = np.argmax(model.predict(token_list), axis=-1)\n",
        "\toutput_word = \"\"\n",
        "\tfor word, index in tokenizer.word_index.items():\n",
        "\t\tif index == predicted:\n",
        "\t\t\toutput_word = word\n",
        "\t\t\tbreak\n",
        "\tseed_text += \" \" + output_word\n",
        "print(seed_text)"
      ],
      "execution_count": 23,
      "outputs": [
        {
          "output_type": "stream",
          "name": "stdout",
          "text": [
            "1/1 [==============================] - 1s 958ms/step\n",
            "1/1 [==============================] - 0s 18ms/step\n",
            "1/1 [==============================] - 0s 19ms/step\n",
            "1/1 [==============================] - 0s 29ms/step\n",
            "1/1 [==============================] - 0s 19ms/step\n",
            "1/1 [==============================] - 0s 23ms/step\n",
            "1/1 [==============================] - 0s 21ms/step\n",
            "1/1 [==============================] - 0s 21ms/step\n",
            "1/1 [==============================] - 0s 24ms/step\n",
            "1/1 [==============================] - 0s 24ms/step\n",
            "1/1 [==============================] - 0s 21ms/step\n",
            "1/1 [==============================] - 0s 24ms/step\n",
            "1/1 [==============================] - 0s 23ms/step\n",
            "1/1 [==============================] - 0s 23ms/step\n",
            "1/1 [==============================] - 0s 31ms/step\n",
            "1/1 [==============================] - 0s 21ms/step\n",
            "1/1 [==============================] - 0s 24ms/step\n",
            "1/1 [==============================] - 0s 21ms/step\n",
            "1/1 [==============================] - 0s 22ms/step\n",
            "1/1 [==============================] - 0s 20ms/step\n",
            "1/1 [==============================] - 0s 19ms/step\n",
            "1/1 [==============================] - 0s 19ms/step\n",
            "1/1 [==============================] - 0s 19ms/step\n",
            "1/1 [==============================] - 0s 20ms/step\n",
            "1/1 [==============================] - 0s 21ms/step\n",
            "1/1 [==============================] - 0s 32ms/step\n",
            "1/1 [==============================] - 0s 22ms/step\n",
            "1/1 [==============================] - 0s 22ms/step\n",
            "1/1 [==============================] - 0s 21ms/step\n",
            "1/1 [==============================] - 0s 20ms/step\n",
            "1/1 [==============================] - 0s 29ms/step\n",
            "1/1 [==============================] - 0s 19ms/step\n",
            "1/1 [==============================] - 0s 23ms/step\n",
            "1/1 [==============================] - 0s 20ms/step\n",
            "1/1 [==============================] - 0s 20ms/step\n",
            "1/1 [==============================] - 0s 19ms/step\n",
            "1/1 [==============================] - 0s 18ms/step\n",
            "1/1 [==============================] - 0s 22ms/step\n",
            "1/1 [==============================] - 0s 21ms/step\n",
            "1/1 [==============================] - 0s 20ms/step\n",
            "1/1 [==============================] - 0s 19ms/step\n",
            "1/1 [==============================] - 0s 23ms/step\n",
            "1/1 [==============================] - 0s 20ms/step\n",
            "1/1 [==============================] - 0s 20ms/step\n",
            "1/1 [==============================] - 0s 20ms/step\n",
            "1/1 [==============================] - 0s 22ms/step\n",
            "1/1 [==============================] - 0s 27ms/step\n",
            "1/1 [==============================] - 0s 22ms/step\n",
            "1/1 [==============================] - 0s 20ms/step\n",
            "1/1 [==============================] - 0s 20ms/step\n",
            "1/1 [==============================] - 0s 21ms/step\n",
            "1/1 [==============================] - 0s 20ms/step\n",
            "1/1 [==============================] - 0s 19ms/step\n",
            "1/1 [==============================] - 0s 20ms/step\n",
            "1/1 [==============================] - 0s 18ms/step\n",
            "1/1 [==============================] - 0s 21ms/step\n",
            "1/1 [==============================] - 0s 18ms/step\n",
            "1/1 [==============================] - 0s 25ms/step\n",
            "1/1 [==============================] - 0s 25ms/step\n",
            "1/1 [==============================] - 0s 21ms/step\n",
            "1/1 [==============================] - 0s 22ms/step\n",
            "1/1 [==============================] - 0s 22ms/step\n",
            "1/1 [==============================] - 0s 23ms/step\n",
            "1/1 [==============================] - 0s 35ms/step\n",
            "1/1 [==============================] - 0s 34ms/step\n",
            "1/1 [==============================] - 0s 33ms/step\n",
            "1/1 [==============================] - 0s 33ms/step\n",
            "1/1 [==============================] - 0s 30ms/step\n",
            "1/1 [==============================] - 0s 31ms/step\n",
            "1/1 [==============================] - 0s 31ms/step\n",
            "1/1 [==============================] - 0s 29ms/step\n",
            "1/1 [==============================] - 0s 30ms/step\n",
            "1/1 [==============================] - 0s 28ms/step\n",
            "1/1 [==============================] - 0s 28ms/step\n",
            "1/1 [==============================] - 0s 31ms/step\n",
            "1/1 [==============================] - 0s 51ms/step\n",
            "1/1 [==============================] - 0s 31ms/step\n",
            "1/1 [==============================] - 0s 29ms/step\n",
            "1/1 [==============================] - 0s 28ms/step\n",
            "1/1 [==============================] - 0s 29ms/step\n",
            "1/1 [==============================] - 0s 30ms/step\n",
            "1/1 [==============================] - 0s 28ms/step\n",
            "1/1 [==============================] - 0s 29ms/step\n",
            "1/1 [==============================] - 0s 43ms/step\n",
            "1/1 [==============================] - 0s 32ms/step\n",
            "1/1 [==============================] - 0s 42ms/step\n",
            "1/1 [==============================] - 0s 29ms/step\n",
            "1/1 [==============================] - 0s 42ms/step\n",
            "1/1 [==============================] - 0s 45ms/step\n",
            "1/1 [==============================] - 0s 34ms/step\n",
            "1/1 [==============================] - 0s 37ms/step\n",
            "1/1 [==============================] - 0s 35ms/step\n",
            "1/1 [==============================] - 0s 61ms/step\n",
            "1/1 [==============================] - 0s 46ms/step\n",
            "1/1 [==============================] - 0s 42ms/step\n",
            "1/1 [==============================] - 0s 30ms/step\n",
            "1/1 [==============================] - 0s 28ms/step\n",
            "1/1 [==============================] - 0s 29ms/step\n",
            "1/1 [==============================] - 0s 31ms/step\n",
            "1/1 [==============================] - 0s 30ms/step\n",
            "I've got a bad feeling about this early early as my love stand to play you down to dublin dear he did shell say look she stand away from now home and he cant remember that once in the wall light is the sea are green your true love but in love stand on the mossy prison thorn we green write warm him and gone it is cry both sea and our love and me stand on prison ground he fair oer the thorn of killarney rest a fathers rest ra lassies hill enough smile bann scarce hares am doneen pate rich drunk sparkling hair middle resemble\n"
          ]
        }
      ]
    },
    {
      "cell_type": "code",
      "source": [
        "print(tokenizer.word_index.items())"
      ],
      "metadata": {
        "colab": {
          "base_uri": "https://localhost:8080/"
        },
        "id": "ULWUGSFBLC2x",
        "outputId": "0b9e7fd7-da23-44fc-d696-93b58db578b7"
      },
      "execution_count": 25,
      "outputs": [
        {
          "output_type": "stream",
          "name": "stdout",
          "text": [
            "dict_items([('the', 1), ('and', 2), ('i', 3), ('to', 4), ('a', 5), ('of', 6), ('my', 7), ('in', 8), ('me', 9), ('for', 10), ('you', 11), ('all', 12), ('was', 13), ('she', 14), ('that', 15), ('on', 16), ('with', 17), ('her', 18), ('but', 19), ('as', 20), ('when', 21), ('love', 22), ('is', 23), ('your', 24), ('it', 25), ('will', 26), ('from', 27), ('by', 28), ('they', 29), ('be', 30), ('are', 31), ('so', 32), ('he', 33), ('old', 34), ('no', 35), ('oh', 36), ('ill', 37), ('at', 38), ('one', 39), ('his', 40), ('there', 41), ('were', 42), ('heart', 43), ('down', 44), ('now', 45), ('we', 46), ('where', 47), ('young', 48), ('never', 49), ('go', 50), ('come', 51), ('then', 52), ('did', 53), ('not', 54), ('said', 55), ('away', 56), ('their', 57), ('sweet', 58), ('them', 59), ('green', 60), ('if', 61), ('take', 62), ('our', 63), ('like', 64), ('night', 65), ('day', 66), ('o', 67), ('out', 68), ('fair', 69), ('this', 70), ('town', 71), ('have', 72), ('can', 73), ('true', 74), ('its', 75), ('thou', 76), ('see', 77), ('dear', 78), ('more', 79), ('theres', 80), ('or', 81), ('had', 82), ('would', 83), ('over', 84), ('hear', 85), ('up', 86), ('ive', 87), ('through', 88), ('home', 89), ('again', 90), ('well', 91), ('oer', 92), ('land', 93), ('good', 94), ('im', 95), ('ye', 96), ('sea', 97), ('left', 98), ('still', 99), ('father', 100), ('long', 101), ('rose', 102), ('could', 103), ('morning', 104), ('wild', 105), ('who', 106), ('eyes', 107), ('came', 108), ('while', 109), ('too', 110), ('back', 111), ('little', 112), ('an', 113), ('took', 114), ('him', 115), ('bow', 116), ('first', 117), ('let', 118), ('man', 119), ('shall', 120), ('know', 121), ('get', 122), ('high', 123), ('gone', 124), ('say', 125), ('ever', 126), ('some', 127), ('mary', 128), ('hand', 129), ('till', 130), ('put', 131), ('own', 132), ('time', 133), ('heard', 134), ('dead', 135), ('may', 136), ('bright', 137), ('mountain', 138), ('early', 139), ('rosin', 140), ('gave', 141), ('thee', 142), ('only', 143), ('far', 144), ('maid', 145), ('must', 146), ('find', 147), ('girl', 148), ('sure', 149), ('round', 150), ('dublin', 151), ('once', 152), ('world', 153), ('delight', 154), ('last', 155), ('johnny', 156), ('seen', 157), ('has', 158), ('fine', 159), ('road', 160), ('mother', 161), ('tis', 162), ('what', 163), ('way', 164), ('moon', 165), ('soul', 166), ('neer', 167), ('id', 168), ('just', 169), ('thats', 170), ('days', 171), ('darling', 172), ('went', 173), ('white', 174), ('die', 175), ('than', 176), ('hair', 177), ('goes', 178), ('meet', 179), ('today', 180), ('do', 181), ('girls', 182), ('shes', 183), ('thyme', 184), ('thy', 185), ('sing', 186), ('pretty', 187), ('new', 188), ('poor', 189), ('into', 190), ('life', 191), ('irish', 192), ('give', 193), ('boy', 194), ('youre', 195), ('make', 196), ('passed', 197), ('lovely', 198), ('black', 199), ('youll', 200), ('died', 201), ('red', 202), ('smile', 203), ('keep', 204), ('loves', 205), ('free', 206), ('leave', 207), ('friends', 208), ('each', 209), ('saw', 210), ('behind', 211), ('song', 212), ('ra', 213), ('dont', 214), ('arms', 215), ('am', 216), ('sun', 217), ('saying', 218), ('made', 219), ('wish', 220), ('cold', 221), ('met', 222), ('before', 223), ('should', 224), ('rocky', 225), ('light', 226), ('wid', 227), ('boys', 228), ('best', 229), ('fields', 230), ('since', 231), ('ball', 232), ('water', 233), ('casey', 234), ('mind', 235), ('along', 236), ('loved', 237), ('place', 238), ('ireland', 239), ('next', 240), ('three', 241), ('many', 242), ('years', 243), ('door', 244), ('us', 245), ('drink', 246), ('got', 247), ('might', 248), ('live', 249), ('roses', 250), ('play', 251), ('soon', 252), ('ground', 253), ('times', 254), ('spent', 255), ('going', 256), ('tree', 257), ('barley', 258), ('grass', 259), ('kind', 260), ('twas', 261), ('bridge', 262), ('around', 263), ('blue', 264), ('tell', 265), ('row', 266), ('how', 267), ('money', 268), ('merry', 269), ('stepped', 270), ('corporal', 271), ('always', 272), ('though', 273), ('near', 274), ('taken', 275), ('ones', 276), ('daughter', 277), ('forever', 278), ('loo', 279), ('shining', 280), ('plenty', 281), ('hes', 282), ('ship', 283), ('banks', 284), ('think', 285), ('very', 286), ('stand', 287), ('heres', 288), ('snow', 289), ('mountains', 290), ('molly', 291), ('wheel', 292), ('street', 293), ('erin', 294), ('side', 295), ('feet', 296), ('star', 297), ('look', 298), ('brave', 299), ('woman', 300), ('sons', 301), ('two', 302), ('says', 303), ('asked', 304), ('lanigans', 305), ('singing', 306), ('men', 307), ('toome', 308), ('stole', 309), ('god', 310), ('hill', 311), ('lonely', 312), ('lover', 313), ('tears', 314), ('fathers', 315), ('low', 316), ('voice', 317), ('quite', 318), ('able', 319), ('nice', 320), ('laid', 321), ('comrades', 322), ('wind', 323), ('another', 324), ('sit', 325), ('face', 326), ('band', 327), ('call', 328), ('colleen', 329), ('until', 330), ('hills', 331), ('mine', 332), ('above', 333), ('upon', 334), ('eer', 335), ('youve', 336), ('fly', 337), ('been', 338), ('late', 339), ('alive', 340), ('ballyjamesduff', 341), ('looked', 342), ('great', 343), ('why', 344), ('every', 345), ('proud', 346), ('found', 347), ('bragh', 348), ('such', 349), ('birds', 350), ('wedding', 351), ('welcome', 352), ('dancing', 353), ('da', 354), ('fell', 355), ('thinking', 356), ('roddy', 357), ('mccorley', 358), ('smiling', 359), ('mallow', 360), ('blooming', 361), ('thought', 362), ('peace', 363), ('soft', 364), ('pure', 365), ('harp', 366), ('dream', 367), ('alas', 368), ('yet', 369), ('clear', 370), ('art', 371), ('off', 372), ('hope', 373), ('fought', 374), ('mothers', 375), ('shore', 376), ('ago', 377), ('fol', 378), ('de', 379), ('house', 380), ('married', 381), ('bound', 382), ('danced', 383), ('devil', 384), ('dawning', 385), ('makes', 386), ('same', 387), ('sat', 388), ('any', 389), ('glass', 390), ('gay', 391), ('relations', 392), ('evening', 393), ('watched', 394), ('right', 395), ('fellows', 396), ('whiskey', 397), ('bonnie', 398), ('grows', 399), ('women', 400), ('flowers', 401), ('beauty', 402), ('cannot', 403), ('handsome', 404), ('happy', 405), ('gold', 406), ('rover', 407), ('none', 408), ('doneen', 409), ('summers', 410), ('people', 411), ('set', 412), ('paddy', 413), ('morn', 414), ('most', 415), ('easy', 416), ('struck', 417), ('beautiful', 418), ('those', 419), ('golden', 420), ('run', 421), ('pipes', 422), ('glen', 423), ('dying', 424), ('here', 425), ('wall', 426), ('across', 427), ('fire', 428), ('eileen', 429), ('longer', 430), ('cheeks', 431), ('valley', 432), ('both', 433), ('dew', 434), ('care', 435), ('bride', 436), ('nothing', 437), ('wont', 438), ('theyre', 439), ('colonel', 440), ('maiden', 441), ('shed', 442), ('til', 443), ('brown', 444), ('breast', 445), ('corn', 446), ('sinking', 447), ('began', 448), ('name', 449), ('cruel', 450), ('sound', 451), ('spancil', 452), ('county', 453), ('lies', 454), ('color', 455), ('thing', 456), ('decay', 457), ('sleep', 458), ('hours', 459), ('loving', 460), ('weary', 461), ('ringing', 462), ('please', 463), ('forget', 464), ('lie', 465), ('ran', 466), ('tore', 467), ('country', 468), ('fear', 469), ('fortune', 470), ('kissed', 471), ('alone', 472), ('ould', 473), ('cry', 474), ('dreams', 475), ('used', 476), ('horse', 477), ('break', 478), ('bells', 479), ('didnt', 480), ('weeks', 481), ('without', 482), ('raw', 483), ('nor', 484), ('twenty', 485), ('tune', 486), ('hed', 487), ('roving', 488), ('leaves', 489), ('cant', 490), ('death', 491), ('ten', 492), ('prison', 493), ('judge', 494), ('against', 495), ('lads', 496), ('shell', 497), ('fill', 498), ('valleys', 499), ('other', 500), ('pale', 501), ('joy', 502), ('wide', 503), ('bring', 504), ('ah', 505), ('cliffs', 506), ('city', 507), ('end', 508), ('turn', 509), ('sky', 510), ('born', 511), ('knew', 512), ('smiled', 513), ('rosie', 514), ('comes', 515), ('sayin', 516), ('lord', 517), ('dungannon', 518), ('blood', 519), ('air', 520), ('danny', 521), ('calling', 522), ('sunshine', 523), ('spring', 524), ('bid', 525), ('grow', 526), ('truth', 527), ('tear', 528), ('rings', 529), ('guns', 530), ('bay', 531), ('oflynn', 532), ('och', 533), ('stick', 534), ('rest', 535), ('four', 536), ('jewel', 537), ('tried', 538), ('grief', 539), ('answer', 540), ('kathleen', 541), ('fond', 542), ('eye', 543), ('goin', 544), ('pistols', 545), ('musha', 546), ('whack', 547), ('creole', 548), ('together', 549), ('room', 550), ('fall', 551), ('swore', 552), ('being', 553), ('step', 554), ('lark', 555), ('cailín', 556), ('deas', 557), ('crúite', 558), ('na', 559), ('mbó', 560), ('sir', 561), ('isle', 562), ('waiting', 563), ('magic', 564), ('skibbereen', 565), ('loud', 566), ('raise', 567), ('bent', 568), ('aged', 569), ('summer', 570), ('jenny', 571), ('excise', 572), ('rigadoo', 573), ('auld', 574), ('hearts', 575), ('nay', 576), ('stool', 577), ('farrell', 578), ('garden', 579), ('precious', 580), ('child', 581), ('slumber', 582), ('sleeping', 583), ('watch', 584), ('gently', 585), ('minstrel', 586), ('praise', 587), ('bell', 588), ('shaken', 589), ('immortal', 590), ('pray', 591), ('stay', 592), ('spoke', 593), ('cross', 594), ('brothers', 595), ('much', 596), ('past', 597), ('killarney', 598), ('sang', 599), ('tones', 600), ('ral', 601), ('wander', 602), ('cot', 603), ('feel', 604), ('yore', 605), ('answered', 606), ('divil', 607), ('middle', 608), ('bit', 609), ('led', 610), ('soldiers', 611), ('lily', 612), ('bed', 613), ('lassie', 614), ('clothes', 615), ('return', 616), ('broken', 617), ('derry', 618), ('sighed', 619), ('english', 620), ('tomorrow', 621), ('souls', 622), ('van', 623), ('diemans', 624), ('law', 625), ('neither', 626), ('winds', 627), ('rather', 628), ('doesnt', 629), ('rosy', 630), ('neatest', 631), ('hands', 632), ('whereon', 633), ('stands', 634), ('write', 635), ('thousand', 636), ('fare', 637), ('youd', 638), ('velvet', 639), ('neat', 640), ('landed', 641), ('health', 642), ('kellswater', 643), ('quiet', 644), ('stars', 645), ('beside', 646), ('warm', 647), ('sunday', 648), ('grey', 649), ('ocean', 650), ('sad', 651), ('spend', 652), ('kilkenny', 653), ('silver', 654), ('view', 655), ('west', 656), ('plain', 657), ('barrow', 658), ('broad', 659), ('narrow', 660), ('crying', 661), ('wonder', 662), ('save', 663), ('stop', 664), ('tender', 665), ('told', 666), ('lip', 667), ('dance', 668), ('foot', 669), ('kilrain', 670), ('saint', 671), ('visit', 672), ('mossy', 673), ('wexford', 674), ('irishmen', 675), ('shadow', 676), ('tho', 677), ('salley', 678), ('gardens', 679), ('foolish', 680), ('youth', 681), ('fade', 682), ('war', 683), ('believe', 684), ('which', 685), ('change', 686), ('entwine', 687), ('turns', 688), ('turned', 689), ('crown', 690), ('played', 691), ('captain', 692), ('blow', 693), ('children', 694), ('slainte', 695), ('gentle', 696), ('heavens', 697), ('bloom', 698), ('grand', 699), ('bush', 700), ('nest', 701), ('rich', 702), ('parting', 703), ('better', 704), ('window', 705), ('haste', 706), ('fresh', 707), ('stream', 708), ('rays', 709), ('ma', 710), ('ring', 711), ('lad', 712), ('athy', 713), ('drop', 714), ('hardly', 715), ('done', 716), ('arm', 717), ('leg', 718), ('beg', 719), ('drew', 720), ('bold', 721), ('drawn', 722), ('jail', 723), ('writin', 724), ('farewell', 725), ('tired', 726), ('lake', 727), ('want', 728), ('ringlets', 729), ('myself', 730), ('songs', 731), ('reel', 732), ('steps', 733), ('hearty', 734), ('fainted', 735), ('called', 736), ('under', 737), ('toe', 738), ('mairi', 739), ('fairest', 740), ('darlin', 741), ('bird', 742), ('memory', 743), ('lips', 744), ('sweetly', 745), ('morrow', 746), ('consent', 747), ('else', 748), ('sold', 749), ('stout', 750), ('pair', 751), ('drinking', 752), ('meself', 753), ('fray', 754), ('pike', 755), ('coat', 756), ('beneath', 757), ('rent', 758), ('part', 759), ('half', 760), ('head', 761), ('friend', 762), ('standing', 763), ('floor', 764), ('bare', 765), ('wed', 766), ('son', 767), ('pride', 768), ('vision', 769), ('sword', 770), ('after', 771), ('won', 772), ('farmers', 773), ('flower', 774), ('nut', 775), ('surely', 776), ('stood', 777), ('wandered', 778), ('athenry', 779), ('rising', 780), ('beating', 781), ('form', 782), ('dhu', 783), ('buy', 784), ('laughter', 785), ('wear', 786), ('raking', 787), ('rakes', 788), ('claret', 789), ('shure', 790), ('tralee', 791), ('slower', 792), ('lower', 793), ('deep', 794), ('wearin', 795), ('duram', 796), ('takes', 797), ('beware', 798), ('steal', 799), ('brings', 800), ('things', 801), ('joys', 802), ('bunch', 803), ('sailor', 804), ('chanced', 805), ('pass', 806), ('angels', 807), ('send', 808), ('drowsy', 809), ('keeping', 810), ('spirit', 811), ('stealing', 812), ('feeling', 813), ('roam', 814), ('presence', 815), ('heavenward', 816), ('dust', 817), ('dim', 818), ('journey', 819), ('waves', 820), ('frightened', 821), ('leaving', 822), ('struggle', 823), ('parents', 824), ('courage', 825), ('weeping', 826), ('pain', 827), ('mist', 828), ('felt', 829), ('roared', 830), ('making', 831), ('fever', 832), ('moment', 833), ('distance', 834), ('wailing', 835), ('oft', 836), ('held', 837), ('fast', 838), ('cabin', 839), ('honey', 840), ('diddle', 841), ('clearly', 842), ('open', 843), ('opened', 844), ('table', 845), ('wine', 846), ('lay', 847), ('shells', 848), ('sailed', 849), ('drown', 850), ('fetters', 851), ('chains', 852), ('wives', 853), ('sorrow', 854), ('thoughts', 855), ('cursed', 856), ('hell', 857), ('five', 858), ('buried', 859), ('lost', 860), ('endless', 861), ('slavery', 862), ('gun', 863), ('rain', 864), ('cares', 865), ('ghosts', 866), ('runaway', 867), ('twill', 868), ('month', 869), ('meadows', 870), ('prettiest', 871), ('winters', 872), ('satisfied', 873), ('few', 874), ('short', 875), ('lines', 876), ('shone', 877), ('shoulder', 878), ('belfast', 879), ('trade', 880), ('bad', 881), ('caused', 882), ('stray', 883), ('meaning', 884), ('damsel', 885), ('appear', 886), ('seven', 887), ('sentence', 888), ('jolly', 889), ('whenever', 890), ('wee', 891), ('wife', 892), ('lives', 893), ('martha', 894), ('courted', 895), ('bridgit', 896), ('omalley', 897), ('desolation', 898), ('thorn', 899), ('gaze', 900), ('stone', 901), ('approaching', 902), ('sets', 903), ('carrigfergus', 904), ('nights', 905), ('swim', 906), ('wings', 907), ('sober', 908), ('travel', 909), ('native', 910), ('places', 911), ('slopes', 912), ('hares', 913), ('lofty', 914), ('malone', 915), ('wheeled', 916), ('streets', 917), ('enough', 918), ('reilly', 919), ('tough', 920), ('whispers', 921), ('phil', 922), ('threw', 923), ('straight', 924), ('belles', 925), ('moor', 926), ('brand', 927), ('shapes', 928), ('work', 929), ('vow', 930), ('blarney', 931), ('paid', 932), ('bower', 933), ('remain', 934), ('charming', 935), ('storied', 936), ('chieftains', 937), ('slaughter', 938), ('bann', 939), ('boyne', 940), ('liffey', 941), ('gallant', 942), ('awake', 943), ('greet', 944), ('meadow', 945), ('sweeter', 946), ('dirty', 947), ('cats', 948), ('crossed', 949), ('field', 950), ('river', 951), ('full', 952), ('aroon', 953), ('sends', 954), ('woe', 955), ('chain', 956), ('main', 957), ('charms', 958), ('fondly', 959), ('fleet', 960), ('fairy', 961), ('thine', 962), ('known', 963), ('truly', 964), ('close', 965), ('story', 966), ('flag', 967), ('sweetest', 968), ('honor', 969), ('playing', 970), ('mauser', 971), ('music', 972), ('tom', 973), ('hurrah', 974), ('big', 975), ('lead', 976), ('south', 977), ('generation', 978), ('freedom', 979), ('agin', 980), ('creature', 981), ('dad', 982), ('venture', 983), ('word', 984), ('wonderful', 985), ('crazy', 986), ('lazy', 987), ('grave', 988), ('jest', 989), ('remark', 990), ('strangers', 991), ('strong', 992), ('shook', 993), ('walk', 994), ('north', 995), ('ours', 996), ('cease', 997), ('strife', 998), ('whats', 999), ('lilacs', 1000), ('prove', 1001), ('sweetheart', 1002), ('letters', 1003), ('sent', 1004), ('speak', 1005), ('brow', 1006), ('albert', 1007), ('mooney', 1008), ('fighting', 1009), ('fingers', 1010), ('toes', 1011), ('john', 1012), ('hurroo', 1013), ('drums', 1014), ('beguiled', 1015), ('carry', 1016), ('bone', 1017), ('havent', 1018), ('walkin', 1019), ('kilgary', 1020), ('pepper', 1021), ('countin', 1022), ('forth', 1023), ('deliver', 1024), ('daddy', 1025), ('em', 1026), ('deceive', 1027), ('between', 1028), ('even', 1029), ('prisoner', 1030), ('fists', 1031), ('knocked', 1032), ('carriages', 1033), ('rollin', 1034), ('juice', 1035), ('courtin', 1036), ('ponchartrain', 1037), ('does', 1038), ('stranger', 1039), ('marry', 1040), ('adieu', 1041), ('ask', 1042), ('tipped', 1043), ('arrived', 1044), ('ladies', 1045), ('potatoes', 1046), ('courting', 1047), ('miss', 1048), ('small', 1049), ('ned', 1050), ('ribbons', 1051), ('heel', 1052), ('bonny', 1053), ('pipe', 1054), ('thrush', 1055), ('sweethearts', 1056), ('unto', 1057), ('rise', 1058), ('softly', 1059), ('milking', 1060), ('rare', 1061), ('pity', 1062), ('treasure', 1063), ('noon', 1064), ('sailing', 1065), ('banish', 1066), ('riches', 1067), ('comfort', 1068), ('yonder', 1069), ('flows', 1070), ('fairer', 1071), ('lass', 1072), ('woods', 1073), ('strayed', 1074), ('locks', 1075), ('breaking', 1076), ('june', 1077), ('started', 1078), ('hearted', 1079), ('beer', 1080), ('daylight', 1081), ('among', 1082), ('bundle', 1083), ('connaught', 1084), ('quay', 1085), ('erins', 1086), ('galway', 1087), ('fearless', 1088), ('bravely', 1089), ('marches', 1090), ('fate', 1091), ('neck', 1092), ('trod', 1093), ('marched', 1094), ('antrim', 1095), ('sash', 1096), ('flashed', 1097), ('hath', 1098), ('foemans', 1099), ('fight', 1100), ('heavy', 1101), ('bore', 1102), ('mans', 1103), ('counter', 1104), ('dozen', 1105), ('gallon', 1106), ('bottles', 1107), ('diamond', 1108), ('resemble', 1109), ('tiny', 1110), ('friendly', 1111), ('weather', 1112), ('inside', 1113), ('remember', 1114), ('someone', 1115), ('hat', 1116), ('body', 1117), ('dancers', 1118), ('hanging', 1119), ('empty', 1120), ('shoes', 1121), ('broke', 1122), ('december', 1123), ('move', 1124), ('reason', 1125), ('roof', 1126), ('naught', 1127), ('tower', 1128), ('power', 1129), ('king', 1130), ('dreaming', 1131), ('crew', 1132), ('whos', 1133), ('mccann', 1134), ('smoke', 1135), ('notes', 1136), ('yeoman', 1137), ('cavalry', 1138), ('guard', 1139), ('forced', 1140), ('brother', 1141), ('cousin', 1142), ('blame', 1143), ('croppy', 1144), ('dressed', 1145), ('trees', 1146), ('wore', 1147), ('words', 1148), ('swiftly', 1149), ('dawn', 1150), ('lovd', 1151), ('voices', 1152), ('moaning', 1153), ('dark', 1154), ('gather', 1155), ('tay', 1156), ('swinging', 1157), ('drinkin', 1158), ('sitting', 1159), ('stile', 1160), ('springing', 1161), ('yours', 1162), ('kept', 1163), ('aisey', 1164), ('rub', 1165), ('dub', 1166), ('dow', 1167), ('shelah', 1168), ('fairly', 1169), ('beggarman', 1170), ('begging', 1171), ('slept', 1172), ('holes', 1173), ('coming', 1174), ('thru', 1175), ('boo', 1176), ('lady', 1177), ('kerry', 1178), ('pipers', 1179), ('laugh', 1180), ('beaming', 1181), ('guineas', 1182), ('least', 1183), ('diggin', 1184), ('mourne', 1185), ('spending', 1186), ('mellow', 1187), ('plying', 1188), ('slowly', 1189), ('mooncoin', 1190), ('flow', 1191), ('sounds', 1192), ('shine', 1193), ('cool', 1194), ('crystal', 1195), ('fountain', 1196), ('moonlight', 1197), ('grandmother', 1198), ('crooning', 1199), ('merrily', 1200), ('spins', 1201), ('lightly', 1202), ('moving', 1203), ('lattice', 1204), ('grove', 1205), ('swings', 1206), ('finger', 1207), ('shamrock', 1208), ('pocket', 1209), ('springtime', 1210), ('gilgarra', 1211), ('rapier', 1212), ('ringum', 1213), ('mornin', 1214), ('heather', 1215), ('build', 1216), ('maidens', 1217), ('prime', 1218), ('nlyme', 1219), ('flavours', 1220), ('lusty', 1221), ('reminded', 1222), ('attend', 1223), ('guardian', 1224), ('creeping', 1225), ('dale', 1226), ('vigil', 1227), ('visions', 1228), ('revealing', 1229), ('breathes', 1230), ('holy', 1231), ('strains', 1232), ('hover', 1233), ('hark', 1234), ('solemn', 1235), ('winging', 1236), ('earthly', 1237), ('shalt', 1238), ('awaken', 1239), ('destiny', 1240), ('emigrants', 1241), ('amid', 1242), ('longing', 1243), ('parted', 1244), ('townland', 1245), ('vessel', 1246), ('crowded', 1247), ('disquieted', 1248), ('folk', 1249), ('escape', 1250), ('hardship', 1251), ('sustaining', 1252), ('glimpse', 1253), ('faded', 1254), ('strangely', 1255), ('seas', 1256), ('anger', 1257), ('desperate', 1258), ('plight', 1259), ('worsened', 1260), ('delirium', 1261), ('possessed', 1262), ('clouded', 1263), ('prayers', 1264), ('begged', 1265), ('forgiveness', 1266), ('seeking', 1267), ('distant', 1268), ('mither', 1269), ('simple', 1270), ('ditty', 1271), ('ld', 1272), ('li', 1273), ('hush', 1274), ('lullaby', 1275), ('huggin', 1276), ('hummin', 1277), ('rock', 1278), ('asleep', 1279), ('outside', 1280), ('modestly', 1281), ('ry', 1282), ('ay', 1283), ('di', 1284), ('re', 1285), ('dai', 1286), ('rie', 1287), ('shc', 1288), ('bridle', 1289), ('stable', 1290), ('oats', 1291), ('eat', 1292), ('soldier', 1293), ('aisy', 1294), ('arose', 1295), ('christmas', 1296), ('1803', 1297), ('australia', 1298), ('marks', 1299), ('carried', 1300), ('rusty', 1301), ('iron', 1302), ('wains', 1303), ('mainsails', 1304), ('unfurled', 1305), ('curses', 1306), ('hurled', 1307), ('swell', 1308), ('moth', 1309), ('firelights', 1310), ('horses', 1311), ('rode', 1312), ('taking', 1313), ('hades', 1314), ('twilight', 1315), ('forty', 1316), ('slime', 1317), ('climate', 1318), ('bravery', 1319), ('ended', 1320), ('bond', 1321), ('rebel', 1322), ('iii', 1323), ('violin', 1324), ('clay', 1325), ('sooner', 1326), ('sport', 1327), ('colour', 1328), ('knows', 1329), ('earth', 1330), ('serve', 1331), ('clyde', 1332), ('mourn', 1333), ('weep', 1334), ('suffer', 1335), ('diamonds', 1336), ('queen', 1337), ('hung', 1338), ('tied', 1339), ('apprenticed', 1340), ('happiness', 1341), ('misfortune', 1342), ('follow', 1343), ('strolling', 1344), ('selling', 1345), ('bar', 1346), ('customer', 1347), ('slipped', 1348), ('luck', 1349), ('jury', 1350), ('trial', 1351), ('case', 1352), ('warning', 1353), ('liquor', 1354), ('porter', 1355), ('pleasures', 1356), ('fishing', 1357), ('farming', 1358), ('glens', 1359), ('softest', 1360), ('dripping', 1361), ('snare', 1362), ('lose', 1363), ('court', 1364), ('primrose', 1365), ('bee', 1366), ('hopeless', 1367), ('wonders', 1368), ('admiration', 1369), ('haunt', 1370), ('wherever', 1371), ('sands', 1372), ('purer', 1373), ('within', 1374), ('grieve', 1375), ('drumslieve', 1376), ('ballygrant', 1377), ('deepest', 1378), ('boatsman', 1379), ('ferry', 1380), ('childhood', 1381), ('reflections', 1382), ('boyhood', 1383), ('melting', 1384), ('roaming', 1385), ('reported', 1386), ('marble', 1387), ('stones', 1388), ('ink', 1389), ('support', 1390), ('drunk', 1391), ('seldom', 1392), ('sick', 1393), ('numbered', 1394), ('foam', 1395), ('compare', 1396), ('sights', 1397), ('coast', 1398), ('clare', 1399), ('kilkee', 1400), ('kilrush', 1401), ('watching', 1402), ('pheasants', 1403), ('homes', 1404), ('streams', 1405), ('dublins', 1406), ('cockles', 1407), ('mussels', 1408), ('fish', 1409), ('monger', 1410), ('ghost', 1411), ('wheels', 1412), ('eden', 1413), ('vanished', 1414), ('finea', 1415), ('halfway', 1416), ('cootehill', 1417), ('gruff', 1418), ('whispering', 1419), ('crow', 1420), ('newborn', 1421), ('babies', 1422), ('huff', 1423), ('start', 1424), ('sorrowful', 1425), ('squall', 1426), ('babys', 1427), ('toil', 1428), ('worn', 1429), ('fore', 1430), ('flute', 1431), ('yer', 1432), ('boot', 1433), ('magee', 1434), ('scruff', 1435), ('slanderin', 1436), ('marchin', 1437), ('assisted', 1438), ('drain', 1439), ('dudeen', 1440), ('puff', 1441), ('whisperings', 1442), ('barrin', 1443), ('chocolate', 1444), ('feegee', 1445), ('sort', 1446), ('moonshiny', 1447), ('stuff', 1448), ('addle', 1449), ('brain', 1450), ('ringin', 1451), ('glamour', 1452), ('gas', 1453), ('guff', 1454), ('whisper', 1455), ('oil', 1456), ('remarkable', 1457), ('policeman', 1458), ('bluff', 1459), ('maintain', 1460), ('guril', 1461), ('sic', 1462), ('passage', 1463), ('rough', 1464), ('borne', 1465), ('breeze', 1466), ('boundless', 1467), ('stupendous', 1468), ('roll', 1469), ('thundering', 1470), ('motion', 1471), ('mermaids', 1472), ('fierce', 1473), ('tempest', 1474), ('gathers', 1475), ('oneill', 1476), ('odonnell', 1477), ('lucan', 1478), ('oconnell', 1479), ('brian', 1480), ('drove', 1481), ('danes', 1482), ('patrick', 1483), ('vermin', 1484), ('whose', 1485), ('benburb', 1486), ('blackwater', 1487), ('owen', 1488), ('roe', 1489), ('munroe', 1490), ('lambs', 1491), ('skip', 1492), ('views', 1493), ('enchanting', 1494), ('rostrevor', 1495), ('groves', 1496), ('lakes', 1497), ('ride', 1498), ('tide', 1499), ('majestic', 1500), ('shannon', 1501), ('sail', 1502), ('loch', 1503), ('neagh', 1504), ('ross', 1505), ('gorey', 1506), ('saxon', 1507), ('tory', 1508), ('soil', 1509), ('sanctified', 1510), ('enemies', 1511), ('links', 1512), ('encumbered', 1513), ('resound', 1514), ('hosannahs', 1515), ('bide', 1516), ('hushed', 1517), ('lying', 1518), ('kneel', 1519), ('ave', 1520), ('tread', 1521), ('fail', 1522), ('simply', 1523), ('gasworks', 1524), ('croft', 1525), ('dreamed', 1526), ('canal', 1527), ('factory', 1528), ('clouds', 1529), ('drifting', 1530), ('prowling', 1531), ('beat', 1532), ('springs', 1533), ('siren', 1534), ('docks', 1535), ('train', 1536), ('smelled', 1537), ('smokey', 1538), ('sharp', 1539), ('axe', 1540), ('steel', 1541), ('tempered', 1542), ('chop', 1543), ('t', 1544), ('agree', 1545), ('leaning', 1546), ('weirs', 1547), ('ray', 1548), ('glow', 1549), ('changeless', 1550), ('constant', 1551), ('bounding', 1552), ('castles', 1553), ('sacked', 1554), ('scattered', 1555), ('fixed', 1556), ('endearing', 1557), ('gifts', 1558), ('fading', 1559), ('wouldst', 1560), ('adored', 1561), ('loveliness', 1562), ('ruin', 1563), ('itself', 1564), ('verdantly', 1565), ('unprofaned', 1566), ('fervor', 1567), ('faith', 1568), ('forgets', 1569), ('sunflower', 1570), ('rag', 1571), ('games', 1572), ('hold', 1573), ('defend', 1574), ('veteran', 1575), ('volunteers', 1576), ('pat', 1577), ('pearse', 1578), ('clark', 1579), ('macdonagh', 1580), ('macdiarmada', 1581), ('mcbryde', 1582), ('james', 1583), ('connolly', 1584), ('placed', 1585), ('machine', 1586), ('ranting', 1587), ('hour', 1588), ('bullet', 1589), ('stuck', 1590), ('craw', 1591), ('poisoning', 1592), ('ceannt', 1593), ('lions', 1594), ('union', 1595), ('poured', 1596), ('dismay', 1597), ('horror', 1598), ('englishmen', 1599), ('khaki', 1600), ('renown', 1601), ('fame', 1602), ('forefathers', 1603), ('blaze', 1604), ('priests', 1605), ('offer', 1606), ('charmin', 1607), ('variety', 1608), ('renownd', 1609), ('learnin', 1610), ('piety', 1611), ('advance', 1612), ('widout', 1613), ('impropriety', 1614), ('flowr', 1615), ('cho', 1616), ('powrfulest', 1617), ('preacher', 1618), ('tenderest', 1619), ('teacher', 1620), ('kindliest', 1621), ('donegal', 1622), ('talk', 1623), ('provost', 1624), ('trinity', 1625), ('famous', 1626), ('greek', 1627), ('latinity', 1628), ('divils', 1629), ('divinity', 1630), ('d', 1631), ('likes', 1632), ('logic', 1633), ('mythology', 1634), ('thayology', 1635), ('conchology', 1636), ('sinners', 1637), ('wishful', 1638), ('childer', 1639), ('avick', 1640), ('gad', 1641), ('flock', 1642), ('grandest', 1643), ('control', 1644), ('checking', 1645), ('coaxin', 1646), ('onaisy', 1647), ('lifting', 1648), ('avoidin', 1649), ('frivolity', 1650), ('seasons', 1651), ('innocent', 1652), ('jollity', 1653), ('playboy', 1654), ('claim', 1655), ('equality', 1656), ('comicality', 1657), ('bishop', 1658), ('lave', 1659), ('gaiety', 1660), ('laity', 1661), ('clergy', 1662), ('jewels', 1663), ('plundering', 1664), ('pillage', 1665), ('starved', 1666), ('cries', 1667), ('thems', 1668), ('bondage', 1669), ('fourth', 1670), ('tabhair', 1671), ('dom', 1672), ('lámh', 1673), ('harmony', 1674), ('east', 1675), ('destroy', 1676), ('command', 1677), ('gesture', 1678), ('troubles', 1679), ('weak', 1680), ('peoples', 1681), ('creeds', 1682), ('lets', 1683), ('needs', 1684), ('passion', 1685), ('fashion', 1686), ('guide', 1687), ('share', 1688), ('sparkling', 1689), ('meeting', 1690), ('iull', 1691), ('contented', 1692), ('ache', 1693), ('painful', 1694), ('wrote', 1695), ('twisted', 1696), ('twined', 1697), ('cheek', 1698), ('bedim', 1699), ('holds', 1700), ('smiles', 1701), ('scarcely', 1702), ('darkning', 1703), ('beyond', 1704), ('yearn', 1705), ('laughs', 1706), ('humble', 1707), ('brightest', 1708), ('gleam', 1709), ('forgot', 1710), ('pulled', 1711), ('comb', 1712), ('counting', 1713), ('knock', 1714), ('murray', 1715), ('fellow', 1716), ('hail', 1717), ('tumblin', 1718), ('apple', 1719), ('pie', 1720), ('gets', 1721), ('doleful', 1722), ('enemy', 1723), ('nearly', 1724), ('slew', 1725), ('queer', 1726), ('mild', 1727), ('legs', 1728), ('indeed', 1729), ('island', 1730), ('sulloon', 1731), ('flesh', 1732), ('yere', 1733), ('armless', 1734), ('boneless', 1735), ('chickenless', 1736), ('egg', 1737), ('yell', 1738), ('bowl', 1739), ('rolling', 1740), ('swearing', 1741), ('rattled', 1742), ('saber', 1743), ('deceiver', 1744), ('rig', 1745), ('um', 1746), ('du', 1747), ('rum', 1748), ('jar', 1749), ('shinin', 1750), ('coins', 1751), ('promised', 1752), ('vowed', 1753), ('devils', 1754), ('awakened', 1755), ('six', 1756), ('guards', 1757), ('numbers', 1758), ('odd', 1759), ('flew', 1760), ('mistaken', 1761), ('mollys', 1762), ('robbing', 1763), ('sentry', 1764), ('sligo', 1765), ('fishin', 1766), ('bowlin', 1767), ('others', 1768), ('railroad', 1769), ('ties', 1770), ('crossings', 1771), ('swamps', 1772), ('elevations', 1773), ('resolved', 1774), ('sunset', 1775), ('higher', 1776), ('win', 1777), ('allegators', 1778), ('wood', 1779), ('treated', 1780), ('shoulders', 1781), ('paint', 1782), ('picture', 1783), ('vain', 1784), ('returned', 1785), ('cottage', 1786), ('sociable', 1787), ('foaming', 1788), ('n', 1789), ('jeremy', 1790), ('lanigan', 1791), ('battered', 1792), ('hadnt', 1793), ('pound', 1794), ('farm', 1795), ('acres', 1796), ('party', 1797), ('listen', 1798), ('glisten', 1799), ('rows', 1800), ('ructions', 1801), ('invitation', 1802), ('minute', 1803), ('bees', 1804), ('cask', 1805), ('judy', 1806), ('odaly', 1807), ('milliner', 1808), ('wink', 1809), ('peggy', 1810), ('mcgilligan', 1811), ('lashings', 1812), ('punch', 1813), ('cakes', 1814), ('bacon', 1815), ('tea', 1816), ('nolans', 1817), ('dolans', 1818), ('ogradys', 1819), ('sounded', 1820), ('taras', 1821), ('hall', 1822), ('nelly', 1823), ('gray', 1824), ('rat', 1825), ('catchers', 1826), ('doing', 1827), ('kinds', 1828), ('nonsensical', 1829), ('polkas', 1830), ('whirligig', 1831), ('julia', 1832), ('banished', 1833), ('nonsense', 1834), ('twist', 1835), ('jig', 1836), ('mavrone', 1837), ('mad', 1838), ('ceiling', 1839), ('brooks', 1840), ('academy', 1841), ('learning', 1842), ('learn', 1843), ('couples', 1844), ('groups', 1845), ('accident', 1846), ('happened', 1847), ('terrance', 1848), ('mccarthy', 1849), ('finnertys', 1850), ('hoops', 1851), ('cried', 1852), ('meelia', 1853), ('murther', 1854), ('gathered', 1855), ('carmody', 1856), ('further', 1857), ('satisfaction', 1858), ('midst', 1859), ('kerrigan', 1860), ('declared', 1861), ('painted', 1862), ('suppose', 1863), ('morgan', 1864), ('powerful', 1865), ('stretched', 1866), ('smashed', 1867), ('chaneys', 1868), ('runctions', 1869), ('lick', 1870), ('phelim', 1871), ('mchugh', 1872), ('replied', 1873), ('introduction', 1874), ('kicked', 1875), ('terrible', 1876), ('hullabaloo', 1877), ('piper', 1878), ('strangled', 1879), ('squeezed', 1880), ('bellows', 1881), ('chanters', 1882), ('entangled', 1883), ('gaily', 1884), ('mairis', 1885), ('hillways', 1886), ('myrtle', 1887), ('bracken', 1888), ('sheilings', 1889), ('sake', 1890), ('rowans', 1891), ('herring', 1892), ('meal', 1893), ('peat', 1894), ('creel', 1895), ('bairns', 1896), ('weel', 1897), ('toast', 1898), ('soar', 1899), ('blackbird', 1900), ('note', 1901), ('linnet', 1902), ('lure', 1903), ('cozy', 1904), ('catch', 1905), ('company', 1906), ('harm', 1907), ('wit', 1908), ('recall', 1909), ('leisure', 1910), ('awhile', 1911), ('sorely', 1912), ('ruby', 1913), ('enthralled', 1914), ('sorry', 1915), ('theyd', 1916), ('falls', 1917), ('lot', 1918), ('tuned', 1919), ('bough', 1920), ('cow', 1921), ('chanting', 1922), ('melodious', 1923), ('scarce', 1924), ('soothed', 1925), ('solace', 1926), ('courtesy', 1927), ('salute', 1928), ('amiable', 1929), ('captive', 1930), ('slave', 1931), ('future', 1932), ('banter', 1933), ('enamour', 1934), ('indies', 1935), ('afford', 1936), ('transparently', 1937), ('flame', 1938), ('add', 1939), ('fuel', 1940), ('grant', 1941), ('desire', 1942), ('expire', 1943), ('wealth', 1944), ('damer', 1945), ('african', 1946), ('devonshire', 1947), ('lamp', 1948), ('alladin', 1949), ('genie', 1950), ('also', 1951), ('withdraw', 1952), ('tease', 1953), ('single', 1954), ('airy', 1955), ('embarrass', 1956), ('besides', 1957), ('almanack', 1958), ('useless', 1959), ('date', 1960), ('ware', 1961), ('rate', 1962), ('fragrance', 1963), ('loses', 1964), ('consumed', 1965), ('october', 1966), ('knowing', 1967), ('steer', 1968), ('blast', 1969), ('danger', 1970), ('farthing', 1971), ('affection', 1972), ('enjoy', 1973), ('choose', 1974), ('killarneys', 1975), ('sister', 1976), ('pains', 1977), ('loss', 1978), ('tuam', 1979), ('saluted', 1980), ('drank', 1981), ('pint', 1982), ('smother', 1983), ('reap', 1984), ('cut', 1985), ('goblins', 1986), ('bought', 1987), ('brogues', 1988), ('rattling', 1989), ('bogs', 1990), ('frightning', 1991), ('dogs', 1992), ('hunt', 1993), ('hare', 1994), ('follol', 1995), ('rah', 1996), ('mullingar', 1997), ('rested', 1998), ('limbs', 1999), ('blithe', 2000), ('heartfrom', 2001), ('paddys', 2002), ('cure', 2003), ('lassies', 2004), ('laughing', 2005), ('curious', 2006), ('style', 2007), ('twould', 2008), ('bubblin', 2009), ('hired', 2010), ('wages', 2011), ('required', 2012), ('almost', 2013), ('deprived', 2014), ('stroll', 2015), ('quality', 2016), ('locality', 2017), ('something', 2018), ('wobblin', 2019), ('enquiring', 2020), ('rogue', 2021), ('brogue', 2022), ('wasnt', 2023), ('vogue', 2024), ('spirits', 2025), ('falling', 2026), ('jumped', 2027), ('aboard', 2028), ('pigs', 2029), ('rigs', 2030), ('jigs', 2031), ('bubbling', 2032), ('holyhead', 2033), ('wished', 2034), ('instead', 2035), ('bouys', 2036), ('liverpool', 2037), ('safely', 2038), ('fool', 2039), ('boil', 2040), ('temper', 2041), ('losing', 2042), ('abusing', 2043), ('shillelagh', 2044), ('nigh', 2045), ('hobble', 2046), ('load', 2047), ('hurray', 2048), ('joined', 2049), ('affray', 2050), ('quitely', 2051), ('cleared', 2052), ('host', 2053), ('march', 2054), ('faces', 2055), ('farmstead', 2056), ('fishers', 2057), ('ban', 2058), ('vengeance', 2059), ('hapless', 2060), ('about', 2061), ('hemp', 2062), ('rope', 2063), ('clung', 2064), ('grim', 2065), ('array', 2066), ('earnest', 2067), ('stalwart', 2068), ('stainless', 2069), ('banner', 2070), ('marching', 2071), ('torn', 2072), ('furious', 2073), ('odds', 2074), ('keen', 2075), ('toomebridge', 2076), ('treads', 2077), ('upwards', 2078), ('traveled', 2079), ('quarters', 2080), ('below', 2081), ('hogshead', 2082), ('stack', 2083), ('stagger', 2084), ('dig', 2085), ('hole', 2086), ('couple', 2087), ('scratch', 2088), ('consolation', 2089), ('tyrant', 2090), ('remorseless', 2091), ('foe', 2092), ('lift', 2093), ('stranded', 2094), ('prince', 2095), ('edward', 2096), ('coffee', 2097), ('trace', 2098), ('fiddlin', 2099), ('dime', 2100), ('shy', 2101), ('hello', 2102), ('wintry', 2103), ('yellow', 2104), ('somewhere', 2105), ('written', 2106), ('begin', 2107), ('tap', 2108), ('caught', 2109), ('leap', 2110), ('clumsy', 2111), ('graceful', 2112), ('fiddlers', 2113), ('everywhere', 2114), ('boots', 2115), ('laughtcr', 2116), ('suits', 2117), ('easter', 2118), ('gowns', 2119), ('sailors', 2120), ('pianos', 2121), ('setting', 2122), ('someones', 2123), ('hats', 2124), ('rack', 2125), ('chair', 2126), ('wooden', 2127), ('feels', 2128), ('touch', 2129), ('awaitin', 2130), ('thc', 2131), ('fiddles', 2132), ('closet', 2133), ('strings', 2134), ('tbe', 2135), ('covers', 2136), ('buttoned', 2137), ('sometimes', 2138), ('melody', 2139), ('passes', 2140), ('slight', 2141), ('lack', 2142), ('moved', 2143), ('homeward', 2144), ('swan', 2145), ('moves', 2146), ('goods', 2147), ('gear', 2148), ('din', 2149), ('rude', 2150), ('wherein', 2151), ('dwell', 2152), ('abandon', 2153), ('energy', 2154), ('blight', 2155), ('praties', 2156), ('sheep', 2157), ('cattle', 2158), ('taxes', 2159), ('unpaid', 2160), ('redeem', 2161), ('bleak', 2162), ('landlord', 2163), ('sheriff', 2164), ('spleen', 2165), ('heaved', 2166), ('sigh', 2167), ('bade', 2168), ('goodbye', 2169), ('stony', 2170), ('anguish', 2171), ('seeing', 2172), ('feeble', 2173), ('frame', 2174), ('wrapped', 2175), ('c�ta', 2176), ('m�r', 2177), ('unseen', 2178), ('stern', 2179), ('rally', 2180), ('cheer', 2181), ('revenge', 2182), ('waking', 2183), ('wisdom', 2184), ('dwelling', 2185), ('battleshield', 2186), ('dignity', 2187), ('shelter', 2188), ('heed', 2189), ('inheritance', 2190), ('heavem', 2191), ('heaven', 2192), ('victory', 2193), ('reach', 2194), ('whatever', 2195), ('befall', 2196), ('ruler', 2197), ('pleasant', 2198), ('rambling', 2199), ('board', 2200), ('followed', 2201), ('shortly', 2202), ('anchor', 2203), ('23rd', 2204), ('lrelands', 2205), ('daughters', 2206), ('crowds', 2207), ('assembled', 2208), ('fulfill', 2209), ('jovial', 2210), ('conversations', 2211), ('neighbors', 2212), ('turning', 2213), ('tailor', 2214), ('quigley', 2215), ('bould', 2216), ('britches', 2217), ('lived', 2218), ('flying', 2219), ('dove', 2220), ('hiii', 2221), ('dreamt', 2222), ('joking', 2223), ('manys', 2224), ('cock', 2225), ('shrill', 2226), ('awoke', 2227), ('california', 2228), ('miles', 2229), ('banbridge', 2230), ('july', 2231), ('boreen', 2232), ('sheen', 2233), ('coaxing', 2234), ('elf', 2235), ('shake', 2236), ('bantry', 2237), ('onward', 2238), ('sped', 2239), ('gazed', 2240), ('passerby', 2241), ('gem', 2242), ('irelands', 2243), ('travelled', 2244), ('hit', 2245), ('career', 2246), ('square', 2247), ('surrendered', 2248), ('tenant', 2249), ('shawl', 2250), ('gown', 2251), ('crossroads', 2252), ('dress', 2253), ('try', 2254), ('sheeps', 2255), ('deludhering', 2256), ('yoke', 2257), ('rust', 2258), ('plow', 2259), ('fireside', 2260), ('sits', 2261), ('whistle', 2262), ('changing', 2263), ('fright', 2264), ('downfall', 2265), ('cornwall', 2266), ('parlour', 2267), ('passing', 2268), ('william', 2269), ('betray', 2270), ('guinea', 2271), ('walking', 2272), ('mounted', 2273), ('platform', 2274), ('deny', 2275), ('walked', 2276), ('margin', 2277), ('lough', 2278), ('leane', 2279), ('bloomed', 2280), ('whom', 2281), ('cap', 2282), ('cloak', 2283), ('glossy', 2284), ('pail', 2285), ('palm', 2286), ('venus', 2287), ('bank', 2288), ('travelians', 2289), ('babes', 2290), ('freebirds', 2291), ('grew', 2292), ('matters', 2293), ('famine', 2294), ('rebelled', 2295), ('windswept', 2296), ('harbour', 2297), ('botany', 2298), ('whilst', 2299), ('wan', 2300), ('cloud', 2301), ('shannons', 2302), ('returnd', 2303), ('doubts', 2304), ('fears', 2305), ('aching', 2306), ('seemd', 2307), ('mingling', 2308), ('flood', 2309), ('path', 2310), ('wrath', 2311), ('lamenting', 2312), ('sudden', 2313), ('kissd', 2314), ('showrs', 2315), ('flowing', 2316), ('laughd', 2317), ('beam', 2318), ('soared', 2319), ('aloft', 2320), ('phantom', 2321), ('outspread', 2322), ('throbbing', 2323), ('hid', 2324), ('treasures', 2325), ('pots', 2326), ('tin', 2327), ('cans', 2328), ('mash', 2329), ('bran', 2330), ('barney', 2331), ('peeled', 2332), ('searching', 2333), ('connemara', 2334), ('butcher', 2335), ('quart', 2336), ('bottle', 2337), ('help', 2338), ('gate', 2339), ('glory', 2340), ('lane', 2341), ('village', 2342), ('church', 2343), ('spire', 2344), ('graveyard', 2345), ('baby', 2346), ('blessing', 2347), ('hoping', 2348), ('trust', 2349), ('strength', 2350), ('thank', 2351), ('bidding', 2352), ('bread', 2353), ('shines', 2354), ('fifty', 2355), ('often', 2356), ('shut', 2357), ('frisky', 2358), ('pig', 2359), ('whisky', 2360), ('uncle', 2361), ('enlisted', 2362), ('trudged', 2363), ('bosom', 2364), ('daisy', 2365), ('drubbing', 2366), ('shirts', 2367), ('battle', 2368), ('blows', 2369), ('pate', 2370), ('bothered', 2371), ('rarely', 2372), ('dropped', 2373), ('honest', 2374), ('thinks', 2375), ('eight', 2376), ('score', 2377), ('basin', 2378), ('zoo', 2379), ('everybody', 2380), ('calls', 2381), ('trades', 2382), ('dinner', 2383), ('slip', 2384), ('corner', 2385), ('barn', 2386), ('currabawn', 2387), ('shocking', 2388), ('wet', 2389), ('raindrops', 2390), ('rats', 2391), ('peek', 2392), ('waken', 2393), ('spotted', 2394), ('apron', 2395), ('calico', 2396), ('blouse', 2397), ('frighten', 2398), ('afraid', 2399), ('flaxen', 2400), ('haired', 2401), ('rags', 2402), ('tags', 2403), ('leggins', 2404), ('collar', 2405), ('tie', 2406), ('goggles', 2407), ('fashioned', 2408), ('bag', 2409), ('bulging', 2410), ('sack', 2411), ('peeping', 2412), ('skin', 2413), ('rink', 2414), ('doodle', 2415), ('getting', 2416), ('raked', 2417), ('gladness', 2418), ('tuning', 2419), ('fills', 2420), ('eily', 2421), ('prouder', 2422), ('thady', 2423), ('boldly', 2424), ('lasses', 2425), ('fled', 2426), ('silent', 2427), ('glad', 2428), ('echo', 2429), ('companions', 2430), ('soars', 2431), ('enchanted', 2432), ('granted', 2433), ('adoration', 2434), ('gives', 2435), ('joyous', 2436), ('elation', 2437), ('covered', 2438), ('winter', 2439), ('riding', 2440), ('cherry', 2441), ('coal', 2442), ('falter', 2443), ('bowed', 2444), ('bonnet', 2445), ('courteous', 2446), ('looks', 2447), ('engaging', 2448), ('sell', 2449), ('purse', 2450), ('yearly', 2451), ('need', 2452), ('market', 2453), ('gain', 2454), ('dearly', 2455), ('tarry', 2456), ('although', 2457), ('parlay', 2458), ('ranks', 2459), ('girded', 2460), ('slung', 2461), ('warrior', 2462), ('bard', 2463), ('betrays', 2464), ('rights', 2465), ('faithful', 2466), ('chords', 2467), ('asunder', 2468), ('sully', 2469), ('bravry', 2470), ('londons', 2471), ('sight', 2472), ('workin', 2473), ('sow', 2474), ('wheat', 2475), ('gangs', 2476), ('sweep', 2477), ('expressed', 2478), ('london', 2479), ('top', 2480), ('dresses', 2481), ('bath', 2482), ('startin', 2483), ('fashions', 2484), ('mccree', 2485), ('nature', 2486), ('designed', 2487), ('complexions', 2488), ('cream', 2489), ('regard', 2490), ('sip', 2491), ('colors', 2492), ('wait', 2493), ('waitin', 2494), ('sweeps', 2495), ('beauing', 2496), ('belling', 2497), ('windows', 2498), ('cursing', 2499), ('faster', 2500), ('waiters', 2501), ('bailiffs', 2502), ('duns', 2503), ('bacchus', 2504), ('begotten', 2505), ('politicians', 2506), ('funds', 2507), ('dadda', 2508), ('living', 2509), ('drives', 2510), ('having', 2511), ('racking', 2512), ('tenants', 2513), ('stewards', 2514), ('teasing', 2515), ('raising', 2516), ('wishing', 2517), ('sunny', 2518), ('doves', 2519), ('coo', 2520), ('neath', 2521), ('sunbeam', 2522), ('robin', 2523), ('waters', 2524), ('larks', 2525), ('join', 2526), ('breaks', 2527), ('oftimes', 2528), ('lilies', 2529), ('declining', 2530), ('vale', 2531), ('shades', 2532), ('mantle', 2533), ('spreading', 2534), ('listening', 2535), ('shedding', 2536), ('beginning', 2537), ('spinning', 2538), ('blind', 2539), ('drowsily', 2540), ('knitting', 2541), ('cheerily', 2542), ('noiselessly', 2543), ('whirring', 2544), ('foots', 2545), ('stirring', 2546), ('sprightly', 2547), ('chara', 2548), ('tapping', 2549), ('ivy', 2550), ('flapping', 2551), ('somebody', 2552), ('sighing', 2553), ('autumn', 2554), ('noise', 2555), ('chirping', 2556), ('holly', 2557), ('shoving', 2558), ('wrong', 2559), ('coolin', 2560), ('casement', 2561), ('rove', 2562), ('moons', 2563), ('brightly', 2564), ('shakes', 2565), ('lays', 2566), ('longs', 2567), ('lingers', 2568), ('glance', 2569), ('puts', 2570), ('lazily', 2571), ('easily', 2572), ('lowly', 2573), ('reels', 2574), ('noiseless', 2575), ('leaps', 2576), ('ere', 2577), ('lovers', 2578), ('roved', 2579), ('verdant', 2580), ('braes', 2581), ('skreen', 2582), ('countrie', 2583), ('foreign', 2584), ('strand', 2585), ('dewy', 2586), ('climb', 2587), ('rob', 2588), ('boat', 2589), ('sails', 2590), ('loaded', 2591), ('sink', 2592), ('leaned', 2593), ('oak', 2594), ('trusty', 2595), ('false', 2596), ('reached', 2597), ('pricked', 2598), ('waxes', 2599), ('fades', 2600), ('wholl', 2601), ('cockle', 2602), ('gloom', 2603), ('news', 2604), ('forbid', 2605), ('patricks', 2606), ('napper', 2607), ('tandy', 2608), ('hows', 2609), ('distressful', 2610), ('englands', 2611), ('remind', 2612), ('pull', 2613), ('throw', 2614), ('sod', 2615), ('root', 2616), ('underfoot', 2617), ('laws', 2618), ('blades', 2619), ('growin', 2620), ('dare', 2621), ('show', 2622), ('caubeen', 2623), ('year', 2624), ('returning', 2625), ('store', 2626), ('ale', 2627), ('frequent', 2628), ('landlady', 2629), ('credit', 2630), ('custom', 2631), ('sovereigns', 2632), ('landladys', 2633), ('wines', 2634), ('confess', 2635), ('pardon', 2636), ('prodigal', 2637), ('caress', 2638), ('forgive', 2639), ('ofttimes', 2640), ('wondering', 2641), ('powr', 2642), ('beguile', 2643), ('teardrop', 2644), ('lilting', 2645), ('laughters', 2646), ('twinkle', 2647), ('lilt', 2648), ('seems', 2649), ('linnets', 2650), ('real', 2651), ('regret', 2652), ('throughout', 2653), ('youths', 2654), ('chance', 2655), ('spied', 2656), ('receiver', 2657), ('counted', 2658), ('penny', 2659), ('bu', 2660), ('rungum', 2661), ('chamber', 2662), ('course', 2663), ('charges', 2664), ('filled', 2665), ('ready', 2666), ('footmen', 2667), ('likewise', 2668), ('draw', 2669), ('pistol', 2670), ('couldnt', 2671), ('shoot', 2672), ('robbin', 2673), ('jailer', 2674), ('tight', 2675), ('fisted', 2676), ('army', 2677), ('stationed', 2678), ('cork', 2679), ('roamin', 2680), ('swear', 2681), ('treat', 2682), ('sportin', 2683), ('hurley', 2684), ('bollin', 2685), ('maids', 2686), ('summertime', 2687), ('pluck', 2688), ('yon', 2689)])\n"
          ]
        }
      ]
    }
  ]
}